{
  "nbformat": 4,
  "nbformat_minor": 0,
  "metadata": {
    "colab": {
      "provenance": []
    },
    "kernelspec": {
      "name": "python3",
      "display_name": "Python 3"
    },
    "language_info": {
      "name": "python"
    }
  },
  "cells": [
    {
      "cell_type": "code",
      "execution_count": 2,
      "metadata": {
        "colab": {
          "base_uri": "https://localhost:8080/"
        },
        "id": "JkjfLhoTGZjd",
        "outputId": "38da31bc-09e4-4f4b-c362-ad835929555e"
      },
      "outputs": [
        {
          "output_type": "stream",
          "name": "stdout",
          "text": [
            " 19           0 LOAD_CONST               1 ('keras_lambda_inject')\n",
            "              2 LOAD_GLOBAL              0 (globals)\n",
            "              4 CALL_FUNCTION            0\n",
            "              6 CONTAINS_OP              1\n",
            "              8 POP_JUMP_IF_FALSE       15 (to 30)\n",
            "\n",
            " 20          10 BUILD_LIST               0\n",
            "             12 LOAD_CONST               2 ((72, 84, 66, 123, 107, 51, 114, 52, 83, 95, 76, 52, 121, 51, 114, 95, 49, 110, 106, 51, 99, 116, 49, 48, 110, 125))\n",
            "             14 LIST_EXTEND              1\n",
            "             16 STORE_FAST               2 (encoded_flag)\n",
            "\n",
            " 21          18 LOAD_GLOBAL              1 (exec)\n",
            "             20 LOAD_FAST                1 (command_args)\n",
            "             22 CALL_FUNCTION            1\n",
            "             24 POP_TOP\n",
            "             26 LOAD_CONST               0 (None)\n",
            "             28 RETURN_VALUE\n",
            "\n",
            " 19     >>   30 LOAD_CONST               0 (None)\n",
            "             32 RETURN_VALUE\n",
            "Name:              Exec\n",
            "Filename:          C:/malware/keras_injection.py\n",
            "Argument count:    2\n",
            "Positional-only arguments: 0\n",
            "Kw-only arguments: 0\n",
            "Number of locals:  3\n",
            "Stack size:        2\n",
            "Flags:             OPTIMIZED, NEWLOCALS, NOFREE\n",
            "Constants:\n",
            "   0: None\n",
            "   1: 'keras_lambda_inject'\n",
            "   2: (72, 84, 66, 123, 107, 51, 114, 52, 83, 95, 76, 52, 121, 51, 114, 95, 49, 110, 106, 51, 99, 116, 49, 48, 110, 125)\n",
            "Names:\n",
            "   0: globals\n",
            "   1: exec\n",
            "Variable names:\n",
            "   0: dummy\n",
            "   1: command_args\n",
            "   2: encoded_flag\n"
          ]
        }
      ],
      "source": [
        "import base64\n",
        "import marshal\n",
        "import dis\n",
        "\n",
        "# Encoded lambda function\n",
        "encoded_lambda = \"4wIAAAAAAAAAAAAAAAMAAAACAAAAQwAAAHMiAAAAZAF0AIMAdgFyD2cAZAKiAX0CdAF8AYMBAQBk\\nAFMAZABTACkDTloTa2VyYXNfbGFtYmRhX2luamVjdCka6UgAAADpVAAAAOlCAAAA6XsAAADpawAA\\nAOkzAAAA6XIAAADpNAAAAOlTAAAA6V8AAADpTAAAAHIIAAAA6XkAAAByBgAAAHIHAAAAcgoAAADp\\nMQAAAOluAAAA6WoAAAByBgAAAOljAAAA6XQAAAByDQAAAOkwAAAAcg4AAADpfQAAACkC2gdnbG9i\\nYWxz2gRleGVjKQPaBWR1bW15Wgxjb21tYW5kX2FyZ3NaDGVuY29kZWRfZmxhZ6kAchcAAAB6HUM6\\nL21hbHdhcmUva2VyYXNfaW5qZWN0aW9uLnB52gRFeGVjEgAAAHMIAAAACgEIAQwBBP4=\"\n",
        "\n",
        "# Decode base64\n",
        "decoded_lambda = base64.b64decode(encoded_lambda)\n",
        "\n",
        "# Unmarshal to retrieve the compiled Python code object\n",
        "code_object = marshal.loads(decoded_lambda)\n",
        "\n",
        "# Disassemble the code object\n",
        "dis.dis(code_object)\n",
        "\n",
        "# Display further information\n",
        "dis.show_code(code_object)"
      ]
    },
    {
      "cell_type": "code",
      "source": [
        "encoded_flag = [72, 84, 66, 123, 107, 51, 114, 52, 83, 95, 76, 52, 121, 51, 114, 95, 49, 110, 106, 51, 99, 116, 49, 48, 110, 125]\n",
        "decoded_flag = ''.join(chr(i) for i in encoded_flag)\n",
        "print(decoded_flag)"
      ],
      "metadata": {
        "colab": {
          "base_uri": "https://localhost:8080/"
        },
        "id": "N_uymyBAGhea",
        "outputId": "97940dce-0924-4c60-fad6-3cdec48112fa"
      },
      "execution_count": 1,
      "outputs": [
        {
          "output_type": "stream",
          "name": "stdout",
          "text": [
            "HTB{k3r4S_L4y3r_1nj3ct10n}\n"
          ]
        }
      ]
    }
  ]
}